{
  "cells": [
    {
      "cell_type": "markdown",
      "metadata": {
        "id": "view-in-github",
        "colab_type": "text"
      },
      "source": [
        "<a href=\"https://colab.research.google.com/github/nautsgit/ProgrammingAssignment2/blob/master/app.ipynb\" target=\"_parent\"><img src=\"https://colab.research.google.com/assets/colab-badge.svg\" alt=\"Open In Colab\"/></a>"
      ]
    },
    {
      "cell_type": "code",
      "execution_count": 1,
      "metadata": {
        "collapsed": true,
        "id": "DWQuNo16HZRr",
        "outputId": "3be193fe-4c93-4481-b5e4-90ac470a4860",
        "colab": {
          "base_uri": "https://localhost:8080/",
          "height": 1000
        }
      },
      "outputs": [
        {
          "output_type": "stream",
          "name": "stdout",
          "text": [
            "Collecting vanna\n",
            "  Downloading vanna-0.7.9-py3-none-any.whl.metadata (15 kB)\n",
            "Requirement already satisfied: requests in /usr/local/lib/python3.11/dist-packages (from vanna) (2.32.3)\n",
            "Requirement already satisfied: tabulate in /usr/local/lib/python3.11/dist-packages (from vanna) (0.9.0)\n",
            "Requirement already satisfied: plotly in /usr/local/lib/python3.11/dist-packages (from vanna) (5.24.1)\n",
            "Requirement already satisfied: pandas in /usr/local/lib/python3.11/dist-packages (from vanna) (2.2.2)\n",
            "Requirement already satisfied: sqlparse in /usr/local/lib/python3.11/dist-packages (from vanna) (0.5.3)\n",
            "Collecting kaleido (from vanna)\n",
            "  Downloading kaleido-1.0.0-py3-none-any.whl.metadata (5.6 kB)\n",
            "Requirement already satisfied: flask in /usr/local/lib/python3.11/dist-packages (from vanna) (3.1.1)\n",
            "Collecting flask-sock (from vanna)\n",
            "  Downloading flask_sock-0.7.0-py3-none-any.whl.metadata (1.6 kB)\n",
            "Collecting flasgger (from vanna)\n",
            "  Downloading flasgger-0.9.7.1.tar.gz (4.0 MB)\n",
            "\u001b[2K     \u001b[90m━━━━━━━━━━━━━━━━━━━━━━━━━━━━━━━━━━━━━━━━\u001b[0m \u001b[32m4.0/4.0 MB\u001b[0m \u001b[31m52.4 MB/s\u001b[0m eta \u001b[36m0:00:00\u001b[0m\n",
            "\u001b[?25h  Preparing metadata (setup.py) ... \u001b[?25l\u001b[?25hdone\n",
            "Requirement already satisfied: sqlalchemy in /usr/local/lib/python3.11/dist-packages (from vanna) (2.0.41)\n",
            "Requirement already satisfied: PyYAML>=3.0 in /usr/local/lib/python3.11/dist-packages (from flasgger->vanna) (6.0.2)\n",
            "Requirement already satisfied: jsonschema>=3.0.1 in /usr/local/lib/python3.11/dist-packages (from flasgger->vanna) (4.24.0)\n",
            "Requirement already satisfied: mistune in /usr/local/lib/python3.11/dist-packages (from flasgger->vanna) (3.1.3)\n",
            "Requirement already satisfied: six>=1.10.0 in /usr/local/lib/python3.11/dist-packages (from flasgger->vanna) (1.17.0)\n",
            "Requirement already satisfied: packaging in /usr/local/lib/python3.11/dist-packages (from flasgger->vanna) (24.2)\n",
            "Requirement already satisfied: blinker>=1.9.0 in /usr/local/lib/python3.11/dist-packages (from flask->vanna) (1.9.0)\n",
            "Requirement already satisfied: click>=8.1.3 in /usr/local/lib/python3.11/dist-packages (from flask->vanna) (8.2.1)\n",
            "Requirement already satisfied: itsdangerous>=2.2.0 in /usr/local/lib/python3.11/dist-packages (from flask->vanna) (2.2.0)\n",
            "Requirement already satisfied: jinja2>=3.1.2 in /usr/local/lib/python3.11/dist-packages (from flask->vanna) (3.1.6)\n",
            "Requirement already satisfied: markupsafe>=2.1.1 in /usr/local/lib/python3.11/dist-packages (from flask->vanna) (3.0.2)\n",
            "Requirement already satisfied: werkzeug>=3.1.0 in /usr/local/lib/python3.11/dist-packages (from flask->vanna) (3.1.3)\n",
            "Collecting simple-websocket>=0.5.1 (from flask-sock->vanna)\n",
            "  Downloading simple_websocket-1.1.0-py3-none-any.whl.metadata (1.5 kB)\n",
            "Collecting choreographer>=1.0.5 (from kaleido->vanna)\n",
            "  Downloading choreographer-1.0.9-py3-none-any.whl.metadata (5.6 kB)\n",
            "Collecting logistro>=1.0.8 (from kaleido->vanna)\n",
            "  Downloading logistro-1.1.0-py3-none-any.whl.metadata (2.6 kB)\n",
            "Requirement already satisfied: orjson>=3.10.15 in /usr/local/lib/python3.11/dist-packages (from kaleido->vanna) (3.10.18)\n",
            "Requirement already satisfied: numpy>=1.23.2 in /usr/local/lib/python3.11/dist-packages (from pandas->vanna) (2.0.2)\n",
            "Requirement already satisfied: python-dateutil>=2.8.2 in /usr/local/lib/python3.11/dist-packages (from pandas->vanna) (2.9.0.post0)\n",
            "Requirement already satisfied: pytz>=2020.1 in /usr/local/lib/python3.11/dist-packages (from pandas->vanna) (2025.2)\n",
            "Requirement already satisfied: tzdata>=2022.7 in /usr/local/lib/python3.11/dist-packages (from pandas->vanna) (2025.2)\n",
            "Requirement already satisfied: tenacity>=6.2.0 in /usr/local/lib/python3.11/dist-packages (from plotly->vanna) (8.5.0)\n",
            "Requirement already satisfied: charset-normalizer<4,>=2 in /usr/local/lib/python3.11/dist-packages (from requests->vanna) (3.4.2)\n",
            "Requirement already satisfied: idna<4,>=2.5 in /usr/local/lib/python3.11/dist-packages (from requests->vanna) (3.10)\n",
            "Requirement already satisfied: urllib3<3,>=1.21.1 in /usr/local/lib/python3.11/dist-packages (from requests->vanna) (2.4.0)\n",
            "Requirement already satisfied: certifi>=2017.4.17 in /usr/local/lib/python3.11/dist-packages (from requests->vanna) (2025.6.15)\n",
            "Requirement already satisfied: greenlet>=1 in /usr/local/lib/python3.11/dist-packages (from sqlalchemy->vanna) (3.2.3)\n",
            "Requirement already satisfied: typing-extensions>=4.6.0 in /usr/local/lib/python3.11/dist-packages (from sqlalchemy->vanna) (4.14.0)\n",
            "Requirement already satisfied: simplejson>=3.19.3 in /usr/local/lib/python3.11/dist-packages (from choreographer>=1.0.5->kaleido->vanna) (3.20.1)\n",
            "Requirement already satisfied: attrs>=22.2.0 in /usr/local/lib/python3.11/dist-packages (from jsonschema>=3.0.1->flasgger->vanna) (25.3.0)\n",
            "Requirement already satisfied: jsonschema-specifications>=2023.03.6 in /usr/local/lib/python3.11/dist-packages (from jsonschema>=3.0.1->flasgger->vanna) (2025.4.1)\n",
            "Requirement already satisfied: referencing>=0.28.4 in /usr/local/lib/python3.11/dist-packages (from jsonschema>=3.0.1->flasgger->vanna) (0.36.2)\n",
            "Requirement already satisfied: rpds-py>=0.7.1 in /usr/local/lib/python3.11/dist-packages (from jsonschema>=3.0.1->flasgger->vanna) (0.25.1)\n",
            "Collecting wsproto (from simple-websocket>=0.5.1->flask-sock->vanna)\n",
            "  Downloading wsproto-1.2.0-py3-none-any.whl.metadata (5.6 kB)\n",
            "Requirement already satisfied: h11<1,>=0.9.0 in /usr/local/lib/python3.11/dist-packages (from wsproto->simple-websocket>=0.5.1->flask-sock->vanna) (0.16.0)\n",
            "Downloading vanna-0.7.9-py3-none-any.whl (213 kB)\n",
            "\u001b[2K   \u001b[90m━━━━━━━━━━━━━━━━━━━━━━━━━━━━━━━━━━━━━━━━\u001b[0m \u001b[32m213.2/213.2 kB\u001b[0m \u001b[31m16.5 MB/s\u001b[0m eta \u001b[36m0:00:00\u001b[0m\n",
            "\u001b[?25hDownloading flask_sock-0.7.0-py3-none-any.whl (4.0 kB)\n",
            "Downloading kaleido-1.0.0-py3-none-any.whl (51 kB)\n",
            "\u001b[2K   \u001b[90m━━━━━━━━━━━━━━━━━━━━━━━━━━━━━━━━━━━━━━━━\u001b[0m \u001b[32m51.5/51.5 kB\u001b[0m \u001b[31m2.2 MB/s\u001b[0m eta \u001b[36m0:00:00\u001b[0m\n",
            "\u001b[?25hDownloading choreographer-1.0.9-py3-none-any.whl (51 kB)\n",
            "\u001b[2K   \u001b[90m━━━━━━━━━━━━━━━━━━━━━━━━━━━━━━━━━━━━━━━━\u001b[0m \u001b[32m51.3/51.3 kB\u001b[0m \u001b[31m2.7 MB/s\u001b[0m eta \u001b[36m0:00:00\u001b[0m\n",
            "\u001b[?25hDownloading logistro-1.1.0-py3-none-any.whl (7.9 kB)\n",
            "Downloading simple_websocket-1.1.0-py3-none-any.whl (13 kB)\n",
            "Downloading wsproto-1.2.0-py3-none-any.whl (24 kB)\n",
            "Building wheels for collected packages: flasgger\n",
            "  Building wheel for flasgger (setup.py) ... \u001b[?25l\u001b[?25hdone\n",
            "  Created wheel for flasgger: filename=flasgger-0.9.7.1-py2.py3-none-any.whl size=3865185 sha256=ec539ad72913452fd7cae8c2ff4ed689a1f6bff84ca4e47af68ec3e5602adaa1\n",
            "  Stored in directory: /root/.cache/pip/wheels/da/2d/f6/c125d4b8701ac49fdb2abbfb978036c46d5ad64d2ffaa2ac34\n",
            "Successfully built flasgger\n",
            "Installing collected packages: wsproto, logistro, simple-websocket, choreographer, kaleido, flask-sock, flasgger, vanna\n",
            "Successfully installed choreographer-1.0.9 flasgger-0.9.7.1 flask-sock-0.7.0 kaleido-1.0.0 logistro-1.1.0 simple-websocket-1.1.0 vanna-0.7.9 wsproto-1.2.0\n"
          ]
        },
        {
          "output_type": "display_data",
          "data": {
            "application/vnd.colab-display-data+json": {
              "pip_warning": {
                "packages": [
                  "site"
                ]
              },
              "id": "f7ff48ba56824bd6be199e884c7ba080"
            }
          },
          "metadata": {}
        },
        {
          "output_type": "error",
          "ename": "ValidationError",
          "evalue": "Please replace 'my-email@example.com' with your email address.",
          "traceback": [
            "\u001b[0;31m---------------------------------------------------------------------------\u001b[0m",
            "\u001b[0;31mValidationError\u001b[0m                           Traceback (most recent call last)",
            "\u001b[0;32m/tmp/ipython-input-1-4004211644.py\u001b[0m in \u001b[0;36m<cell line: 0>\u001b[0;34m()\u001b[0m\n\u001b[1;32m      2\u001b[0m \u001b[0;32mimport\u001b[0m \u001b[0mvanna\u001b[0m\u001b[0;34m\u001b[0m\u001b[0;34m\u001b[0m\u001b[0m\n\u001b[1;32m      3\u001b[0m \u001b[0;32mfrom\u001b[0m \u001b[0mvanna\u001b[0m\u001b[0;34m.\u001b[0m\u001b[0mremote\u001b[0m \u001b[0;32mimport\u001b[0m \u001b[0mVannaDefault\u001b[0m\u001b[0;34m\u001b[0m\u001b[0;34m\u001b[0m\u001b[0m\n\u001b[0;32m----> 4\u001b[0;31m \u001b[0mvn\u001b[0m \u001b[0;34m=\u001b[0m \u001b[0mVannaDefault\u001b[0m\u001b[0;34m(\u001b[0m\u001b[0mmodel\u001b[0m\u001b[0;34m=\u001b[0m\u001b[0;34m'chinook'\u001b[0m\u001b[0;34m,\u001b[0m \u001b[0mapi_key\u001b[0m\u001b[0;34m=\u001b[0m\u001b[0mvanna\u001b[0m\u001b[0;34m.\u001b[0m\u001b[0mget_api_key\u001b[0m\u001b[0;34m(\u001b[0m\u001b[0;34m'my-email@example.com'\u001b[0m\u001b[0;34m)\u001b[0m\u001b[0;34m)\u001b[0m\u001b[0;34m\u001b[0m\u001b[0;34m\u001b[0m\u001b[0m\n\u001b[0m\u001b[1;32m      5\u001b[0m \u001b[0mvn\u001b[0m\u001b[0;34m.\u001b[0m\u001b[0mconnect_to_sqlite\u001b[0m\u001b[0;34m(\u001b[0m\u001b[0;34m'https://vanna.ai/Chinook.sqlite'\u001b[0m\u001b[0;34m)\u001b[0m\u001b[0;34m\u001b[0m\u001b[0;34m\u001b[0m\u001b[0m\n\u001b[1;32m      6\u001b[0m \u001b[0mvn\u001b[0m\u001b[0;34m.\u001b[0m\u001b[0mask\u001b[0m\u001b[0;34m(\u001b[0m\u001b[0;34m\"What are the top 10 albums by sales?\"\u001b[0m\u001b[0;34m)\u001b[0m\u001b[0;34m\u001b[0m\u001b[0;34m\u001b[0m\u001b[0m\n",
            "\u001b[0;32m/usr/local/lib/python3.11/dist-packages/vanna/__init__.py\u001b[0m in \u001b[0;36mget_api_key\u001b[0;34m(email, otp_code)\u001b[0m\n\u001b[1;32m     95\u001b[0m \u001b[0;34m\u001b[0m\u001b[0m\n\u001b[1;32m     96\u001b[0m     \u001b[0;32mif\u001b[0m \u001b[0memail\u001b[0m \u001b[0;34m==\u001b[0m \u001b[0;34m\"my-email@example.com\"\u001b[0m\u001b[0;34m:\u001b[0m\u001b[0;34m\u001b[0m\u001b[0;34m\u001b[0m\u001b[0m\n\u001b[0;32m---> 97\u001b[0;31m         raise ValidationError(\n\u001b[0m\u001b[1;32m     98\u001b[0m             \u001b[0;34m\"Please replace 'my-email@example.com' with your email address.\"\u001b[0m\u001b[0;34m\u001b[0m\u001b[0;34m\u001b[0m\u001b[0m\n\u001b[1;32m     99\u001b[0m         )\n",
            "\u001b[0;31mValidationError\u001b[0m: Please replace 'my-email@example.com' with your email address."
          ]
        }
      ],
      "source": [
        "!pip install vanna\n",
        "\n",
        "\n"
      ]
    },
    {
      "cell_type": "code",
      "source": [
        "import vanna\n",
        "from vanna.remote import VannaDefault"
      ],
      "metadata": {
        "id": "Na4q1G9eH8RY"
      },
      "execution_count": 2,
      "outputs": []
    },
    {
      "cell_type": "markdown",
      "source": [],
      "metadata": {
        "id": "hrgO07cCH1-i"
      }
    },
    {
      "cell_type": "code",
      "source": [
        "vn = VannaDefault(model='chinook', api_key=vanna.get_api_key('shubhamnautiyal484@gmail.com'))\n",
        "vn.connect_to_sqlite('https://vanna.ai/Chinook.sqlite')\n",
        "vn.ask(\"What are the top 10 albums by sales?\")"
      ],
      "metadata": {
        "id": "zqPM1ZVSHmVm",
        "outputId": "b1fce676-32f2-4dad-856f-00ede12d1ce9",
        "colab": {
          "base_uri": "https://localhost:8080/",
          "height": 1000
        }
      },
      "execution_count": 3,
      "outputs": [
        {
          "output_type": "stream",
          "name": "stdout",
          "text": [
            "Check your email for the code and enter it here: ZEYCUV\n",
            "SQL Prompt: [{'role': 'system', 'content': \"You are a SQLite expert. Please help to generate a SQL query to answer the question. Your response should ONLY be based on the given context and follow the response guidelines and format instructions. \\n===Tables \\nCREATE TABLE [Album]\\n(\\n    [AlbumId] INTEGER  NOT NULL,\\n    [Title] NVARCHAR(160)  NOT NULL,\\n    [ArtistId] INTEGER  NOT NULL,\\n    CONSTRAINT [PK_Album] PRIMARY KEY  ([AlbumId]),\\n    FOREIGN KEY ([ArtistId]) REFERENCES [Artist] ([ArtistId]) \\n\\t\\tON DELETE NO ACTION ON UPDATE NO ACTION\\n)\\n\\nCREATE INDEX [IFK_AlbumArtistId] ON [Album] ([ArtistId])\\n\\nCREATE INDEX [IFK_TrackAlbumId] ON [Track] ([AlbumId])\\n\\nCREATE TABLE [Track]\\n(\\n    [TrackId] INTEGER  NOT NULL,\\n    [Name] NVARCHAR(200)  NOT NULL,\\n    [AlbumId] INTEGER,\\n    [MediaTypeId] INTEGER  NOT NULL,\\n    [GenreId] INTEGER,\\n    [Composer] NVARCHAR(220),\\n    [Milliseconds] INTEGER  NOT NULL,\\n    [Bytes] INTEGER,\\n    [UnitPrice] NUMERIC(10,2)  NOT NULL,\\n    CONSTRAINT [PK_Track] PRIMARY KEY  ([TrackId]),\\n    FOREIGN KEY ([AlbumId]) REFERENCES [Album] ([AlbumId]) \\n\\t\\tON DELETE NO ACTION ON UPDATE NO ACTION,\\n    FOREIGN KEY ([GenreId]) REFERENCES [Genre] ([GenreId]) \\n\\t\\tON DELETE NO ACTION ON UPDATE NO ACTION,\\n    FOREIGN KEY ([MediaTypeId]) REFERENCES [MediaType] ([MediaTypeId]) \\n\\t\\tON DELETE NO ACTION ON UPDATE NO ACTION\\n)\\n\\nCREATE TABLE [Artist]\\n(\\n    [ArtistId] INTEGER  NOT NULL,\\n    [Name] NVARCHAR(120),\\n    CONSTRAINT [PK_Artist] PRIMARY KEY  ([ArtistId])\\n)\\n\\nCREATE TABLE [Playlist]\\n(\\n    [PlaylistId] INTEGER  NOT NULL,\\n    [Name] NVARCHAR(120),\\n    CONSTRAINT [PK_Playlist] PRIMARY KEY  ([PlaylistId])\\n)\\n\\nCREATE TABLE [Genre]\\n(\\n    [GenreId] INTEGER  NOT NULL,\\n    [Name] NVARCHAR(120),\\n    CONSTRAINT [PK_Genre] PRIMARY KEY  ([GenreId])\\n)\\n\\nCREATE TABLE [InvoiceLine]\\n(\\n    [InvoiceLineId] INTEGER  NOT NULL,\\n    [InvoiceId] INTEGER  NOT NULL,\\n    [TrackId] INTEGER  NOT NULL,\\n    [UnitPrice] NUMERIC(10,2)  NOT NULL,\\n    [Quantity] INTEGER  NOT NULL,\\n    CONSTRAINT [PK_InvoiceLine] PRIMARY KEY  ([InvoiceLineId]),\\n    FOREIGN KEY ([InvoiceId]) REFERENCES [Invoice] ([InvoiceId]) \\n\\t\\tON DELETE NO ACTION ON UPDATE NO ACTION,\\n    FOREIGN KEY ([TrackId]) REFERENCES [Track] ([TrackId]) \\n\\t\\tON DELETE NO ACTION ON UPDATE NO ACTION\\n)\\n\\nCREATE INDEX [IFK_TrackGenreId] ON [Track] ([GenreId])\\n\\nCREATE TABLE [Customer]\\n(\\n    [CustomerId] INTEGER  NOT NULL,\\n    [FirstName] NVARCHAR(40)  NOT NULL,\\n    [LastName] NVARCHAR(20)  NOT NULL,\\n    [Company] NVARCHAR(80),\\n    [Address] NVARCHAR(70),\\n    [City] NVARCHAR(40),\\n    [State] NVARCHAR(40),\\n    [Country] NVARCHAR(40),\\n    [PostalCode] NVARCHAR(10),\\n    [Phone] NVARCHAR(24),\\n    [Fax] NVARCHAR(24),\\n    [Email] NVARCHAR(60)  NOT NULL,\\n    [SupportRepId] INTEGER,\\n    CONSTRAINT [PK_Customer] PRIMARY KEY  ([CustomerId]),\\n    FOREIGN KEY ([SupportRepId]) REFERENCES [Employee] ([EmployeeId]) \\n\\t\\tON DELETE NO ACTION ON UPDATE NO ACTION\\n)\\n\\n\\n===Additional Context \\n\\nThis is a SQLite database. For dates rememeber to use SQLite syntax.\\n\\n===Response Guidelines \\n1. If the provided context is sufficient, please generate a valid SQL query without any explanations for the question. \\n2. If the provided context is almost sufficient but requires knowledge of a specific string in a particular column, please generate an intermediate SQL query to find the distinct strings in that column. Prepend the query with a comment saying intermediate_sql \\n3. If the provided context is insufficient, please explain why it can't be generated. \\n4. Please use the most relevant table(s). \\n5. If the question has been asked and answered before, please repeat the answer exactly as it was given before. \\n6. Ensure that the output SQL is SQLite-compliant and executable, and free of syntax errors. \\n\"}, {'role': 'user', 'content': 'What are the top 10 albums by sales?'}, {'role': 'assistant', 'content': 'SELECT a.AlbumId, a.Title, SUM(il.Quantity) AS TotalSales\\nFROM Album a\\nINNER JOIN Track t ON a.AlbumId = t.AlbumId\\nINNER JOIN InvoiceLine il ON t.TrackId = il.TrackId\\nGROUP BY a.AlbumId, a.Title\\nORDER BY TotalSales DESC\\nLIMIT 10;'}, {'role': 'user', 'content': 'What are the top 10 most purchased albums?'}, {'role': 'assistant', 'content': 'SELECT a.AlbumId, a.Title, SUM(il.Quantity) AS TotalPurchases\\nFROM Album a\\nJOIN Track t ON a.AlbumId = t.AlbumId\\nJOIN InvoiceLine il ON t.TrackId = il.TrackId\\nGROUP BY a.AlbumId, a.Title\\nORDER BY TotalPurchases DESC\\nLIMIT 10;'}, {'role': 'user', 'content': 'What are the top 10 artists by sales?'}, {'role': 'assistant', 'content': 'SELECT a.ArtistId, a.Name, SUM(il.Quantity) AS TotalSales\\nFROM Artist a\\nINNER JOIN Album al ON a.ArtistId = al.ArtistId\\nINNER JOIN Track t ON al.AlbumId = t.AlbumId\\nINNER JOIN InvoiceLine il ON t.TrackId = il.TrackId\\nGROUP BY a.ArtistId, a.Name\\nORDER BY TotalSales DESC\\nLIMIT 10;'}, {'role': 'user', 'content': 'What are the top 10 Jazz artists by sales per year?'}, {'role': 'assistant', 'content': \"SELECT a.ArtistId, a.Name, strftime('%Y', i.InvoiceDate) AS Year, SUM(il.Quantity) AS TotalSales\\nFROM Artist a\\nJOIN Album al ON a.ArtistId = al.ArtistId\\nJOIN Track t ON al.AlbumId = t.AlbumId\\nJOIN InvoiceLine il ON t.TrackId = il.TrackId\\nJOIN Invoice i ON il.InvoiceId = i.InvoiceId\\nJOIN Genre g ON t.GenreId = g.GenreId\\nWHERE g.Name = 'Jazz'\\nGROUP BY a.ArtistId, a.Name, Year\\nORDER BY TotalSales DESC\\nLIMIT 10;\"}, {'role': 'user', 'content': 'What are the top 10 jazz artists by sales?'}, {'role': 'assistant', 'content': \"SELECT a.ArtistId, a.Name, SUM(il.Quantity) AS TotalSales\\nFROM Artist a\\nJOIN Album al ON a.ArtistId = al.ArtistId\\nJOIN Track t ON al.AlbumId = t.AlbumId\\nJOIN InvoiceLine il ON t.TrackId = il.TrackId\\nJOIN Genre g ON t.GenreId = g.GenreId\\nWHERE g.Name = 'Jazz'\\nGROUP BY a.ArtistId, a.Name\\nORDER BY TotalSales DESC\\nLIMIT 10;\"}, {'role': 'user', 'content': 'What are the top-selling albums?'}, {'role': 'assistant', 'content': 'SELECT a.AlbumId, a.Title, SUM(il.Quantity) AS TotalSales\\nFROM Album a\\nJOIN Track t ON a.AlbumId = t.AlbumId\\nJOIN InvoiceLine il ON t.TrackId = il.TrackId\\nGROUP BY a.AlbumId, a.Title\\nORDER BY TotalSales DESC;'}, {'role': 'user', 'content': 'What are the top 10 artists by sales? 使用中文'}, {'role': 'assistant', 'content': 'SELECT a.ArtistId, a.Name, SUM(il.Quantity) AS TotalSales\\nFROM Artist a\\nJOIN Album al ON a.ArtistId = al.ArtistId\\nJOIN Track t ON al.AlbumId = t.AlbumId\\nJOIN InvoiceLine il ON t.TrackId = il.TrackId\\nGROUP BY a.ArtistId, a.Name\\nORDER BY TotalSales DESC\\nLIMIT 10;'}, {'role': 'user', 'content': 'What are the top 10 Electronica/Dance artists by sales?'}, {'role': 'assistant', 'content': \"SELECT a.ArtistId, a.Name, SUM(il.Quantity) AS TotalSales\\nFROM Artist a\\nJOIN Album al ON a.ArtistId = al.ArtistId\\nJOIN Track t ON al.AlbumId = t.AlbumId\\nJOIN InvoiceLine il ON t.TrackId = il.TrackId\\nJOIN Genre g ON t.GenreId = g.GenreId\\nWHERE g.Name = 'Electronica/Dance'\\nGROUP BY a.ArtistId, a.Name\\nORDER BY TotalSales DESC\\nLIMIT 10;\"}, {'role': 'user', 'content': 'What are the top 11artists by sales?'}, {'role': 'assistant', 'content': 'SELECT a.ArtistId, a.Name, SUM(il.Quantity) AS TotalSales\\nFROM Artist a\\nJOIN Album al ON a.ArtistId = al.ArtistId\\nJOIN Track t ON al.AlbumId = t.AlbumId\\nJOIN InvoiceLine il ON t.TrackId = il.TrackId\\nGROUP BY a.ArtistId, a.Name\\nORDER BY TotalSales DESC\\nLIMIT 11;'}, {'role': 'user', 'content': 'What are the top 7 artists by sales order by sales?'}, {'role': 'assistant', 'content': 'SELECT a.ArtistId, a.Name, SUM(il.Quantity) AS TotalSales\\nFROM Artist a\\nINNER JOIN Album al ON a.ArtistId = al.ArtistId\\nINNER JOIN Track t ON al.AlbumId = t.AlbumId\\nINNER JOIN InvoiceLine il ON t.TrackId = il.TrackId\\nGROUP BY a.ArtistId, a.Name\\nORDER BY TotalSales DESC\\nLIMIT 7;'}, {'role': 'user', 'content': 'What are the top 10 albums by sales?'}]\n",
            "LLM Response: SELECT a.AlbumId, a.Title, SUM(il.Quantity) AS TotalSales\n",
            "FROM Album a\n",
            "INNER JOIN Track t ON a.AlbumId = t.AlbumId\n",
            "INNER JOIN InvoiceLine il ON t.TrackId = il.TrackId\n",
            "GROUP BY a.AlbumId, a.Title\n",
            "ORDER BY TotalSales DESC\n",
            "LIMIT 10;\n",
            "Extracted SQL: SELECT a.AlbumId, a.Title, SUM(il.Quantity) AS TotalSales\n",
            "FROM Album a\n",
            "INNER JOIN Track t ON a.AlbumId = t.AlbumId\n",
            "INNER JOIN InvoiceLine il ON t.TrackId = il.TrackId\n",
            "GROUP BY a.AlbumId, a.Title\n",
            "ORDER BY TotalSales DESC\n",
            "LIMIT 10;\n",
            "SELECT a.AlbumId, a.Title, SUM(il.Quantity) AS TotalSales\n",
            "FROM Album a\n",
            "INNER JOIN Track t ON a.AlbumId = t.AlbumId\n",
            "INNER JOIN InvoiceLine il ON t.TrackId = il.TrackId\n",
            "GROUP BY a.AlbumId, a.Title\n",
            "ORDER BY TotalSales DESC\n",
            "LIMIT 10;\n",
            "   AlbumId                                     Title  TotalSales\n",
            "0       23                            Minha Historia          27\n",
            "1      141                             Greatest Hits          26\n",
            "2       73                                 Unplugged          25\n",
            "3      224                                  Acústico          22\n",
            "4       37                             Greatest Kiss          20\n",
            "5       21                              Prenda Minha          19\n",
            "6       55                         Chronicle, Vol. 2          19\n",
            "7      221  My Generation - The Very Best Of The Who          19\n",
            "8       39                   International Superhits          18\n",
            "9       54                         Chronicle, Vol. 1          18\n"
          ]
        },
        {
          "output_type": "stream",
          "name": "stderr",
          "text": [
            "/usr/local/lib/python3.11/dist-packages/kaleido/__init__.py:14: UserWarning:\n",
            "\n",
            "\n",
            "\n",
            "Warning: You have Plotly version 5.24.1, which is not compatible with this version of Kaleido (1.0.0).\n",
            "\n",
            "This means that static image generation (e.g. `fig.write_image()`) will not work.\n",
            "\n",
            "Please upgrade Plotly to version 6.1.1 or greater, or downgrade Kaleido to version 0.2.1.\n",
            "\n",
            "\n"
          ]
        },
        {
          "output_type": "display_data",
          "data": {
            "text/html": [
              "<html>\n",
              "<head><meta charset=\"utf-8\" /></head>\n",
              "<body>\n",
              "    <div>            <script src=\"https://cdnjs.cloudflare.com/ajax/libs/mathjax/2.7.5/MathJax.js?config=TeX-AMS-MML_SVG\"></script><script type=\"text/javascript\">if (window.MathJax && window.MathJax.Hub && window.MathJax.Hub.Config) {window.MathJax.Hub.Config({SVG: {font: \"STIX-Web\"}});}</script>                <script type=\"text/javascript\">window.PlotlyConfig = {MathJaxConfig: 'local'};</script>\n",
              "        <script charset=\"utf-8\" src=\"https://cdn.plot.ly/plotly-2.35.2.min.js\"></script>                <div id=\"2b9eb2a8-f456-4541-87e7-a17652e2c550\" class=\"plotly-graph-div\" style=\"height:525px; width:100%;\"></div>            <script type=\"text/javascript\">                                    window.PLOTLYENV=window.PLOTLYENV || {};                                    if (document.getElementById(\"2b9eb2a8-f456-4541-87e7-a17652e2c550\")) {                    Plotly.newPlot(                        \"2b9eb2a8-f456-4541-87e7-a17652e2c550\",                        [{\"alignmentgroup\":\"True\",\"hovertemplate\":\"Title=%{x}\\u003cbr\\u003eTotalSales=%{y}\\u003cextra\\u003e\\u003c\\u002fextra\\u003e\",\"legendgroup\":\"\",\"marker\":{\"color\":\"#636efa\",\"pattern\":{\"shape\":\"\"}},\"name\":\"\",\"offsetgroup\":\"\",\"orientation\":\"v\",\"showlegend\":false,\"textposition\":\"auto\",\"x\":[\"Minha Historia\",\"Greatest Hits\",\"Unplugged\",\"Acústico\",\"Greatest Kiss\",\"Prenda Minha\",\"Chronicle, Vol. 2\",\"My Generation - The Very Best Of The Who\",\"International Superhits\",\"Chronicle, Vol. 1\"],\"xaxis\":\"x\",\"y\":[27,26,25,22,20,19,19,19,18,18],\"yaxis\":\"y\",\"type\":\"bar\"}],                        {\"template\":{\"data\":{\"barpolar\":[{\"marker\":{\"line\":{\"color\":\"rgb(17,17,17)\",\"width\":0.5},\"pattern\":{\"fillmode\":\"overlay\",\"size\":10,\"solidity\":0.2}},\"type\":\"barpolar\"}],\"bar\":[{\"error_x\":{\"color\":\"#f2f5fa\"},\"error_y\":{\"color\":\"#f2f5fa\"},\"marker\":{\"line\":{\"color\":\"rgb(17,17,17)\",\"width\":0.5},\"pattern\":{\"fillmode\":\"overlay\",\"size\":10,\"solidity\":0.2}},\"type\":\"bar\"}],\"carpet\":[{\"aaxis\":{\"endlinecolor\":\"#A2B1C6\",\"gridcolor\":\"#506784\",\"linecolor\":\"#506784\",\"minorgridcolor\":\"#506784\",\"startlinecolor\":\"#A2B1C6\"},\"baxis\":{\"endlinecolor\":\"#A2B1C6\",\"gridcolor\":\"#506784\",\"linecolor\":\"#506784\",\"minorgridcolor\":\"#506784\",\"startlinecolor\":\"#A2B1C6\"},\"type\":\"carpet\"}],\"choropleth\":[{\"colorbar\":{\"outlinewidth\":0,\"ticks\":\"\"},\"type\":\"choropleth\"}],\"contourcarpet\":[{\"colorbar\":{\"outlinewidth\":0,\"ticks\":\"\"},\"type\":\"contourcarpet\"}],\"contour\":[{\"colorbar\":{\"outlinewidth\":0,\"ticks\":\"\"},\"colorscale\":[[0.0,\"#0d0887\"],[0.1111111111111111,\"#46039f\"],[0.2222222222222222,\"#7201a8\"],[0.3333333333333333,\"#9c179e\"],[0.4444444444444444,\"#bd3786\"],[0.5555555555555556,\"#d8576b\"],[0.6666666666666666,\"#ed7953\"],[0.7777777777777778,\"#fb9f3a\"],[0.8888888888888888,\"#fdca26\"],[1.0,\"#f0f921\"]],\"type\":\"contour\"}],\"heatmapgl\":[{\"colorbar\":{\"outlinewidth\":0,\"ticks\":\"\"},\"colorscale\":[[0.0,\"#0d0887\"],[0.1111111111111111,\"#46039f\"],[0.2222222222222222,\"#7201a8\"],[0.3333333333333333,\"#9c179e\"],[0.4444444444444444,\"#bd3786\"],[0.5555555555555556,\"#d8576b\"],[0.6666666666666666,\"#ed7953\"],[0.7777777777777778,\"#fb9f3a\"],[0.8888888888888888,\"#fdca26\"],[1.0,\"#f0f921\"]],\"type\":\"heatmapgl\"}],\"heatmap\":[{\"colorbar\":{\"outlinewidth\":0,\"ticks\":\"\"},\"colorscale\":[[0.0,\"#0d0887\"],[0.1111111111111111,\"#46039f\"],[0.2222222222222222,\"#7201a8\"],[0.3333333333333333,\"#9c179e\"],[0.4444444444444444,\"#bd3786\"],[0.5555555555555556,\"#d8576b\"],[0.6666666666666666,\"#ed7953\"],[0.7777777777777778,\"#fb9f3a\"],[0.8888888888888888,\"#fdca26\"],[1.0,\"#f0f921\"]],\"type\":\"heatmap\"}],\"histogram2dcontour\":[{\"colorbar\":{\"outlinewidth\":0,\"ticks\":\"\"},\"colorscale\":[[0.0,\"#0d0887\"],[0.1111111111111111,\"#46039f\"],[0.2222222222222222,\"#7201a8\"],[0.3333333333333333,\"#9c179e\"],[0.4444444444444444,\"#bd3786\"],[0.5555555555555556,\"#d8576b\"],[0.6666666666666666,\"#ed7953\"],[0.7777777777777778,\"#fb9f3a\"],[0.8888888888888888,\"#fdca26\"],[1.0,\"#f0f921\"]],\"type\":\"histogram2dcontour\"}],\"histogram2d\":[{\"colorbar\":{\"outlinewidth\":0,\"ticks\":\"\"},\"colorscale\":[[0.0,\"#0d0887\"],[0.1111111111111111,\"#46039f\"],[0.2222222222222222,\"#7201a8\"],[0.3333333333333333,\"#9c179e\"],[0.4444444444444444,\"#bd3786\"],[0.5555555555555556,\"#d8576b\"],[0.6666666666666666,\"#ed7953\"],[0.7777777777777778,\"#fb9f3a\"],[0.8888888888888888,\"#fdca26\"],[1.0,\"#f0f921\"]],\"type\":\"histogram2d\"}],\"histogram\":[{\"marker\":{\"pattern\":{\"fillmode\":\"overlay\",\"size\":10,\"solidity\":0.2}},\"type\":\"histogram\"}],\"mesh3d\":[{\"colorbar\":{\"outlinewidth\":0,\"ticks\":\"\"},\"type\":\"mesh3d\"}],\"parcoords\":[{\"line\":{\"colorbar\":{\"outlinewidth\":0,\"ticks\":\"\"}},\"type\":\"parcoords\"}],\"pie\":[{\"automargin\":true,\"type\":\"pie\"}],\"scatter3d\":[{\"line\":{\"colorbar\":{\"outlinewidth\":0,\"ticks\":\"\"}},\"marker\":{\"colorbar\":{\"outlinewidth\":0,\"ticks\":\"\"}},\"type\":\"scatter3d\"}],\"scattercarpet\":[{\"marker\":{\"colorbar\":{\"outlinewidth\":0,\"ticks\":\"\"}},\"type\":\"scattercarpet\"}],\"scattergeo\":[{\"marker\":{\"colorbar\":{\"outlinewidth\":0,\"ticks\":\"\"}},\"type\":\"scattergeo\"}],\"scattergl\":[{\"marker\":{\"line\":{\"color\":\"#283442\"}},\"type\":\"scattergl\"}],\"scattermapbox\":[{\"marker\":{\"colorbar\":{\"outlinewidth\":0,\"ticks\":\"\"}},\"type\":\"scattermapbox\"}],\"scatterpolargl\":[{\"marker\":{\"colorbar\":{\"outlinewidth\":0,\"ticks\":\"\"}},\"type\":\"scatterpolargl\"}],\"scatterpolar\":[{\"marker\":{\"colorbar\":{\"outlinewidth\":0,\"ticks\":\"\"}},\"type\":\"scatterpolar\"}],\"scatter\":[{\"marker\":{\"line\":{\"color\":\"#283442\"}},\"type\":\"scatter\"}],\"scatterternary\":[{\"marker\":{\"colorbar\":{\"outlinewidth\":0,\"ticks\":\"\"}},\"type\":\"scatterternary\"}],\"surface\":[{\"colorbar\":{\"outlinewidth\":0,\"ticks\":\"\"},\"colorscale\":[[0.0,\"#0d0887\"],[0.1111111111111111,\"#46039f\"],[0.2222222222222222,\"#7201a8\"],[0.3333333333333333,\"#9c179e\"],[0.4444444444444444,\"#bd3786\"],[0.5555555555555556,\"#d8576b\"],[0.6666666666666666,\"#ed7953\"],[0.7777777777777778,\"#fb9f3a\"],[0.8888888888888888,\"#fdca26\"],[1.0,\"#f0f921\"]],\"type\":\"surface\"}],\"table\":[{\"cells\":{\"fill\":{\"color\":\"#506784\"},\"line\":{\"color\":\"rgb(17,17,17)\"}},\"header\":{\"fill\":{\"color\":\"#2a3f5f\"},\"line\":{\"color\":\"rgb(17,17,17)\"}},\"type\":\"table\"}]},\"layout\":{\"annotationdefaults\":{\"arrowcolor\":\"#f2f5fa\",\"arrowhead\":0,\"arrowwidth\":1},\"autotypenumbers\":\"strict\",\"coloraxis\":{\"colorbar\":{\"outlinewidth\":0,\"ticks\":\"\"}},\"colorscale\":{\"diverging\":[[0,\"#8e0152\"],[0.1,\"#c51b7d\"],[0.2,\"#de77ae\"],[0.3,\"#f1b6da\"],[0.4,\"#fde0ef\"],[0.5,\"#f7f7f7\"],[0.6,\"#e6f5d0\"],[0.7,\"#b8e186\"],[0.8,\"#7fbc41\"],[0.9,\"#4d9221\"],[1,\"#276419\"]],\"sequential\":[[0.0,\"#0d0887\"],[0.1111111111111111,\"#46039f\"],[0.2222222222222222,\"#7201a8\"],[0.3333333333333333,\"#9c179e\"],[0.4444444444444444,\"#bd3786\"],[0.5555555555555556,\"#d8576b\"],[0.6666666666666666,\"#ed7953\"],[0.7777777777777778,\"#fb9f3a\"],[0.8888888888888888,\"#fdca26\"],[1.0,\"#f0f921\"]],\"sequentialminus\":[[0.0,\"#0d0887\"],[0.1111111111111111,\"#46039f\"],[0.2222222222222222,\"#7201a8\"],[0.3333333333333333,\"#9c179e\"],[0.4444444444444444,\"#bd3786\"],[0.5555555555555556,\"#d8576b\"],[0.6666666666666666,\"#ed7953\"],[0.7777777777777778,\"#fb9f3a\"],[0.8888888888888888,\"#fdca26\"],[1.0,\"#f0f921\"]]},\"colorway\":[\"#636efa\",\"#EF553B\",\"#00cc96\",\"#ab63fa\",\"#FFA15A\",\"#19d3f3\",\"#FF6692\",\"#B6E880\",\"#FF97FF\",\"#FECB52\"],\"font\":{\"color\":\"#f2f5fa\"},\"geo\":{\"bgcolor\":\"rgb(17,17,17)\",\"lakecolor\":\"rgb(17,17,17)\",\"landcolor\":\"rgb(17,17,17)\",\"showlakes\":true,\"showland\":true,\"subunitcolor\":\"#506784\"},\"hoverlabel\":{\"align\":\"left\"},\"hovermode\":\"closest\",\"mapbox\":{\"style\":\"dark\"},\"paper_bgcolor\":\"rgb(17,17,17)\",\"plot_bgcolor\":\"rgb(17,17,17)\",\"polar\":{\"angularaxis\":{\"gridcolor\":\"#506784\",\"linecolor\":\"#506784\",\"ticks\":\"\"},\"bgcolor\":\"rgb(17,17,17)\",\"radialaxis\":{\"gridcolor\":\"#506784\",\"linecolor\":\"#506784\",\"ticks\":\"\"}},\"scene\":{\"xaxis\":{\"backgroundcolor\":\"rgb(17,17,17)\",\"gridcolor\":\"#506784\",\"gridwidth\":2,\"linecolor\":\"#506784\",\"showbackground\":true,\"ticks\":\"\",\"zerolinecolor\":\"#C8D4E3\"},\"yaxis\":{\"backgroundcolor\":\"rgb(17,17,17)\",\"gridcolor\":\"#506784\",\"gridwidth\":2,\"linecolor\":\"#506784\",\"showbackground\":true,\"ticks\":\"\",\"zerolinecolor\":\"#C8D4E3\"},\"zaxis\":{\"backgroundcolor\":\"rgb(17,17,17)\",\"gridcolor\":\"#506784\",\"gridwidth\":2,\"linecolor\":\"#506784\",\"showbackground\":true,\"ticks\":\"\",\"zerolinecolor\":\"#C8D4E3\"}},\"shapedefaults\":{\"line\":{\"color\":\"#f2f5fa\"}},\"sliderdefaults\":{\"bgcolor\":\"#C8D4E3\",\"bordercolor\":\"rgb(17,17,17)\",\"borderwidth\":1,\"tickwidth\":0},\"ternary\":{\"aaxis\":{\"gridcolor\":\"#506784\",\"linecolor\":\"#506784\",\"ticks\":\"\"},\"baxis\":{\"gridcolor\":\"#506784\",\"linecolor\":\"#506784\",\"ticks\":\"\"},\"bgcolor\":\"rgb(17,17,17)\",\"caxis\":{\"gridcolor\":\"#506784\",\"linecolor\":\"#506784\",\"ticks\":\"\"}},\"title\":{\"x\":0.05},\"updatemenudefaults\":{\"bgcolor\":\"#506784\",\"borderwidth\":0},\"xaxis\":{\"automargin\":true,\"gridcolor\":\"#283442\",\"linecolor\":\"#506784\",\"ticks\":\"\",\"title\":{\"standoff\":15},\"zerolinecolor\":\"#283442\",\"zerolinewidth\":2},\"yaxis\":{\"automargin\":true,\"gridcolor\":\"#283442\",\"linecolor\":\"#506784\",\"ticks\":\"\",\"title\":{\"standoff\":15},\"zerolinecolor\":\"#283442\",\"zerolinewidth\":2}}},\"xaxis\":{\"anchor\":\"y\",\"domain\":[0.0,1.0],\"title\":{\"text\":\"Title\"}},\"yaxis\":{\"anchor\":\"x\",\"domain\":[0.0,1.0],\"title\":{\"text\":\"TotalSales\"}},\"legend\":{\"tracegroupgap\":0},\"title\":{\"text\":\"Top 10 Albums by Sales\"},\"barmode\":\"relative\"},                        {\"responsive\": true}                    ).then(function(){\n",
              "                            \n",
              "var gd = document.getElementById('2b9eb2a8-f456-4541-87e7-a17652e2c550');\n",
              "var x = new MutationObserver(function (mutations, observer) {{\n",
              "        var display = window.getComputedStyle(gd).display;\n",
              "        if (!display || display === 'none') {{\n",
              "            console.log([gd, 'removed!']);\n",
              "            Plotly.purge(gd);\n",
              "            observer.disconnect();\n",
              "        }}\n",
              "}});\n",
              "\n",
              "// Listen for the removal of the full notebook cells\n",
              "var notebookContainer = gd.closest('#notebook-container');\n",
              "if (notebookContainer) {{\n",
              "    x.observe(notebookContainer, {childList: true});\n",
              "}}\n",
              "\n",
              "// Listen for the clearing of the current output cell\n",
              "var outputEl = gd.closest('.output');\n",
              "if (outputEl) {{\n",
              "    x.observe(outputEl, {childList: true});\n",
              "}}\n",
              "\n",
              "                        })                };                            </script>        </div>\n",
              "</body>\n",
              "</html>"
            ]
          },
          "metadata": {}
        },
        {
          "output_type": "execute_result",
          "data": {
            "text/plain": [
              "('SELECT a.AlbumId, a.Title, SUM(il.Quantity) AS TotalSales\\nFROM Album a\\nINNER JOIN Track t ON a.AlbumId = t.AlbumId\\nINNER JOIN InvoiceLine il ON t.TrackId = il.TrackId\\nGROUP BY a.AlbumId, a.Title\\nORDER BY TotalSales DESC\\nLIMIT 10;',\n",
              "    AlbumId                                     Title  TotalSales\n",
              " 0       23                            Minha Historia          27\n",
              " 1      141                             Greatest Hits          26\n",
              " 2       73                                 Unplugged          25\n",
              " 3      224                                  Acústico          22\n",
              " 4       37                             Greatest Kiss          20\n",
              " 5       21                              Prenda Minha          19\n",
              " 6       55                         Chronicle, Vol. 2          19\n",
              " 7      221  My Generation - The Very Best Of The Who          19\n",
              " 8       39                   International Superhits          18\n",
              " 9       54                         Chronicle, Vol. 1          18,\n",
              " Figure({\n",
              "     'data': [{'alignmentgroup': 'True',\n",
              "               'hovertemplate': 'Title=%{x}<br>TotalSales=%{y}<extra></extra>',\n",
              "               'legendgroup': '',\n",
              "               'marker': {'color': '#636efa', 'pattern': {'shape': ''}},\n",
              "               'name': '',\n",
              "               'offsetgroup': '',\n",
              "               'orientation': 'v',\n",
              "               'showlegend': False,\n",
              "               'textposition': 'auto',\n",
              "               'type': 'bar',\n",
              "               'x': array(['Minha Historia', 'Greatest Hits', 'Unplugged', 'Acústico',\n",
              "                           'Greatest Kiss', 'Prenda Minha', 'Chronicle, Vol. 2',\n",
              "                           'My Generation - The Very Best Of The Who', 'International Superhits',\n",
              "                           'Chronicle, Vol. 1'], dtype=object),\n",
              "               'xaxis': 'x',\n",
              "               'y': array([27, 26, 25, 22, 20, 19, 19, 19, 18, 18]),\n",
              "               'yaxis': 'y'}],\n",
              "     'layout': {'barmode': 'relative',\n",
              "                'legend': {'tracegroupgap': 0},\n",
              "                'template': '...',\n",
              "                'title': {'text': 'Top 10 Albums by Sales'},\n",
              "                'xaxis': {'anchor': 'y', 'domain': [0.0, 1.0], 'title': {'text': 'Title'}},\n",
              "                'yaxis': {'anchor': 'x', 'domain': [0.0, 1.0], 'title': {'text': 'TotalSales'}}}\n",
              " }))"
            ]
          },
          "metadata": {},
          "execution_count": 3
        }
      ]
    },
    {
      "cell_type": "code",
      "execution_count": null,
      "metadata": {
        "id": "fy4OTdbdHZRv",
        "outputId": "c75926a9-081a-46a3-d2cb-9a79125ccec4",
        "colab": {
          "base_uri": "https://localhost:8080/",
          "height": 402
        }
      },
      "outputs": [
        {
          "output_type": "stream",
          "name": "stdout",
          "text": [
            "Google Colab doesn't support running websocket servers. Disabling debug mode.\n",
            "\u001b[31mWarning: This function may stop working due to changes in browser security.\n",
            "Try `serve_kernel_port_as_iframe` instead. \u001b[0m\n"
          ]
        },
        {
          "output_type": "display_data",
          "data": {
            "text/plain": [
              "<IPython.core.display.Javascript object>"
            ],
            "application/javascript": [
              "(async (port, path, text, element) => {\n",
              "    if (!google.colab.kernel.accessAllowed) {\n",
              "      return;\n",
              "    }\n",
              "    element.appendChild(document.createTextNode(''));\n",
              "    const url = await google.colab.kernel.proxyPort(port);\n",
              "    const anchor = document.createElement('a');\n",
              "    anchor.href = new URL(path, url).toString();\n",
              "    anchor.target = '_blank';\n",
              "    anchor.setAttribute('data-href', url + path);\n",
              "    anchor.textContent = text;\n",
              "    element.appendChild(anchor);\n",
              "  })(8084, \"/\", \"https://localhost:8084/\", window.element)"
            ]
          },
          "metadata": {}
        },
        {
          "output_type": "stream",
          "name": "stdout",
          "text": [
            "Your app is running at:\n",
            "https://8084-m-s-3in3bgicqsl6a-b.us-west1-0.prod.colab.dev\n",
            " * Serving Flask app 'vanna.flask'\n",
            " * Debug mode: off\n",
            "Info: None\n",
            "None\n",
            "SQL Prompt: [{'role': 'system', 'content': \"You are a SQLite expert. Please help to generate a SQL query to answer the question. Your response should ONLY be based on the given context and follow the response guidelines and format instructions. \\n===Tables \\nCREATE TABLE [Customer]\\n(\\n    [CustomerId] INTEGER  NOT NULL,\\n    [FirstName] NVARCHAR(40)  NOT NULL,\\n    [LastName] NVARCHAR(20)  NOT NULL,\\n    [Company] NVARCHAR(80),\\n    [Address] NVARCHAR(70),\\n    [City] NVARCHAR(40),\\n    [State] NVARCHAR(40),\\n    [Country] NVARCHAR(40),\\n    [PostalCode] NVARCHAR(10),\\n    [Phone] NVARCHAR(24),\\n    [Fax] NVARCHAR(24),\\n    [Email] NVARCHAR(60)  NOT NULL,\\n    [SupportRepId] INTEGER,\\n    CONSTRAINT [PK_Customer] PRIMARY KEY  ([CustomerId]),\\n    FOREIGN KEY ([SupportRepId]) REFERENCES [Employee] ([EmployeeId]) \\n\\t\\tON DELETE NO ACTION ON UPDATE NO ACTION\\n)\\n\\nCREATE TABLE [Invoice]\\n(\\n    [InvoiceId] INTEGER  NOT NULL,\\n    [CustomerId] INTEGER  NOT NULL,\\n    [InvoiceDate] DATETIME  NOT NULL,\\n    [BillingAddress] NVARCHAR(70),\\n    [BillingCity] NVARCHAR(40),\\n    [BillingState] NVARCHAR(40),\\n    [BillingCountry] NVARCHAR(40),\\n    [BillingPostalCode] NVARCHAR(10),\\n    [Total] NUMERIC(10,2)  NOT NULL,\\n    CONSTRAINT [PK_Invoice] PRIMARY KEY  ([InvoiceId]),\\n    FOREIGN KEY ([CustomerId]) REFERENCES [Customer] ([CustomerId]) \\n\\t\\tON DELETE NO ACTION ON UPDATE NO ACTION\\n)\\n\\nCREATE INDEX [IFK_InvoiceCustomerId] ON [Invoice] ([CustomerId])\\n\\nCREATE INDEX [IFK_CustomerSupportRepId] ON [Customer] ([SupportRepId])\\n\\nCREATE TABLE [Employee]\\n(\\n    [EmployeeId] INTEGER  NOT NULL,\\n    [LastName] NVARCHAR(20)  NOT NULL,\\n    [FirstName] NVARCHAR(20)  NOT NULL,\\n    [Title] NVARCHAR(30),\\n    [ReportsTo] INTEGER,\\n    [BirthDate] DATETIME,\\n    [HireDate] DATETIME,\\n    [Address] NVARCHAR(70),\\n    [City] NVARCHAR(40),\\n    [State] NVARCHAR(40),\\n    [Country] NVARCHAR(40),\\n    [PostalCode] NVARCHAR(10),\\n    [Phone] NVARCHAR(24),\\n    [Fax] NVARCHAR(24),\\n    [Email] NVARCHAR(60),\\n    CONSTRAINT [PK_Employee] PRIMARY KEY  ([EmployeeId]),\\n    FOREIGN KEY ([ReportsTo]) REFERENCES [Employee] ([EmployeeId]) \\n\\t\\tON DELETE NO ACTION ON UPDATE NO ACTION\\n)\\n\\nCREATE TABLE [InvoiceLine]\\n(\\n    [InvoiceLineId] INTEGER  NOT NULL,\\n    [InvoiceId] INTEGER  NOT NULL,\\n    [TrackId] INTEGER  NOT NULL,\\n    [UnitPrice] NUMERIC(10,2)  NOT NULL,\\n    [Quantity] INTEGER  NOT NULL,\\n    CONSTRAINT [PK_InvoiceLine] PRIMARY KEY  ([InvoiceLineId]),\\n    FOREIGN KEY ([InvoiceId]) REFERENCES [Invoice] ([InvoiceId]) \\n\\t\\tON DELETE NO ACTION ON UPDATE NO ACTION,\\n    FOREIGN KEY ([TrackId]) REFERENCES [Track] ([TrackId]) \\n\\t\\tON DELETE NO ACTION ON UPDATE NO ACTION\\n)\\n\\nCREATE TABLE [Artist]\\n(\\n    [ArtistId] INTEGER  NOT NULL,\\n    [Name] NVARCHAR(120),\\n    CONSTRAINT [PK_Artist] PRIMARY KEY  ([ArtistId])\\n)\\n\\nCREATE TABLE [Playlist]\\n(\\n    [PlaylistId] INTEGER  NOT NULL,\\n    [Name] NVARCHAR(120),\\n    CONSTRAINT [PK_Playlist] PRIMARY KEY  ([PlaylistId])\\n)\\n\\nCREATE INDEX [IFK_InvoiceLineInvoiceId] ON [InvoiceLine] ([InvoiceId])\\n\\nCREATE INDEX [IFK_EmployeeReportsTo] ON [Employee] ([ReportsTo])\\n\\n\\n===Additional Context \\n\\nThis is a SQLite database. For dates rememeber to use SQLite syntax.\\n\\n===Response Guidelines \\n1. If the provided context is sufficient, please generate a valid SQL query without any explanations for the question. \\n2. If the provided context is almost sufficient but requires knowledge of a specific string in a particular column, please generate an intermediate SQL query to find the distinct strings in that column. Prepend the query with a comment saying intermediate_sql \\n3. If the provided context is insufficient, please explain why it can't be generated. \\n4. Please use the most relevant table(s). \\n5. If the question has been asked and answered before, please repeat the answer exactly as it was given before. \\n6. Ensure that the output SQL is SQLite-compliant and executable, and free of syntax errors. \\n\"}, {'role': 'user', 'content': 'How many total customers?'}, {'role': 'assistant', 'content': 'SELECT COUNT(*) AS TotalCustomers\\nFROM Customer;'}, {'role': 'user', 'content': \"Retrieve a list of customers who have made at least 5 purchase. \\nInclude their contact information, the total amount they've spent, \\nthe number of purchases, the average order value, and their most frequently purchased track_id.\\n\"}, {'role': 'assistant', 'content': 'SELECT c.CustomerId, c.FirstName, c.LastName, c.Email, c.Phone, \\n       SUM(i.Total) AS TotalAmountSpent,\\n       COUNT(DISTINCT i.InvoiceId) AS NumberOfPurchases, \\n       AVG(i.Total) AS AverageOrderValue,\\n       (SELECT il.TrackId \\n        FROM InvoiceLine il\\n        JOIN Invoice i ON il.InvoiceId = i.InvoiceId\\n        WHERE i.CustomerId = c.CustomerId\\n        GROUP BY il.TrackId\\n        ORDER BY COUNT(*) DESC\\n        LIMIT 1) AS MostFrequentlyPurchasedTrackId\\nFROM Customer c\\nJOIN Invoice i ON c.CustomerId = i.CustomerId\\nGROUP BY c.CustomerId, c.FirstName, c.LastName, c.Email, c.Phone\\nHAVING COUNT(DISTINCT i.InvoiceId) >= 5;'}, {'role': 'user', 'content': 'what is the top 20SHIPPING_CITY  for SHIPPING_HISTORY table'}, {'role': 'assistant', 'content': 'SELECT SHIPPING_CITY\\nFROM SHIPPING_HISTORY\\nGROUP BY SHIPPING_CITY\\nORDER BY COUNT(*) DESC\\nLIMIT 20;'}, {'role': 'user', 'content': 'What is the distribution of sales by country?'}, {'role': 'assistant', 'content': 'SELECT BillingCountry AS Country, SUM(Total) AS TotalSales\\nFROM Invoice\\nGROUP BY BillingCountry;'}, {'role': 'user', 'content': 'Retrieve a list of customers who have made at least one purchase. Include their contact information, the total amount they’ve spent, the number of purchases, the average order value, and their most frequently purchased track_id.'}, {'role': 'assistant', 'content': 'SELECT c.CustomerId, c.FirstName, c.LastName, c.Email, c.Phone, SUM(i.Total) AS TotalAmountSpent,\\nCOUNT(DISTINCT i.InvoiceId) AS NumberOfPurchases, AVG(i.Total) AS AverageOrderValue,\\n(SELECT il.TrackId FROM InvoiceLine il\\nJOIN Invoice i ON il.InvoiceId = i.InvoiceId\\nWHERE i.CustomerId = c.CustomerId\\nGROUP BY il.TrackId\\nORDER BY COUNT(*) DESC\\nLIMIT 1) AS MostFrequentlyPurchasedTrackId\\nFROM Customer c\\nJOIN Invoice i ON c.CustomerId = i.CustomerId\\nGROUP BY c.CustomerId, c.FirstName, c.LastName, c.Email, c.Phone;'}, {'role': 'user', 'content': 'What is the total sales for each customer?'}, {'role': 'assistant', 'content': 'SELECT c.CustomerId, c.FirstName, c.LastName, SUM(i.Total) AS TotalSales\\nFROM Customer c\\nJOIN Invoice i ON c.CustomerId = i.CustomerId\\nGROUP BY c.CustomerId, c.FirstName, c.LastName;'}, {'role': 'user', 'content': 'What are the top 5 genres in terms of total sales?'}, {'role': 'assistant', 'content': 'SELECT g.Name AS Genre, SUM(il.Quantity) AS TotalSales\\nFROM Genre g\\nJOIN Track t ON g.GenreId = t.GenreId\\nJOIN InvoiceLine il ON t.TrackId = il.TrackId\\nGROUP BY g.Name\\nORDER BY TotalSales DESC\\nLIMIT 5;'}, {'role': 'user', 'content': 'What are the top 5 genres by total sales?'}, {'role': 'assistant', 'content': 'SELECT g.Name AS Genre, SUM(il.Quantity) AS TotalSales\\nFROM Genre g\\nINNER JOIN Track t ON g.GenreId = t.GenreId\\nINNER JOIN InvoiceLine il ON t.TrackId = il.TrackId\\nGROUP BY g.Name\\nORDER BY TotalSales DESC\\nLIMIT 5;'}, {'role': 'user', 'content': 'What are the top 5 jazz artists by sales?'}, {'role': 'assistant', 'content': \"SELECT a.ArtistId, a.Name, SUM(il.Quantity) AS TotalSales\\nFROM Artist a\\nJOIN Album al ON a.ArtistId = al.ArtistId\\nJOIN Track t ON al.AlbumId = t.AlbumId\\nJOIN InvoiceLine il ON t.TrackId = il.TrackId\\nJOIN Genre g ON t.GenreId = g.GenreId\\nWHERE g.Name = 'Jazz'\\nGROUP BY a.ArtistId, a.Name\\nORDER BY TotalSales DESC\\nLIMIT 5;\"}, {'role': 'user', 'content': 'what are the top 5 jazz artists by sales?'}, {'role': 'assistant', 'content': \"SELECT a.ArtistId, a.Name, SUM(il.Quantity) AS TotalSales\\nFROM Artist a\\nJOIN Album al ON a.ArtistId = al.ArtistId\\nJOIN Track t ON al.AlbumId = t.AlbumId\\nJOIN InvoiceLine il ON t.TrackId = il.TrackId\\nJOIN Genre g ON t.GenreId = g.GenreId\\nWHERE g.Name = 'Jazz'\\nGROUP BY a.ArtistId, a.Name\\nORDER BY TotalSales DESC\\nLIMIT 5;\"}, {'role': 'user', 'content': 'Which 5 cities have the most customers?'}]\n",
            "LLM Response: SELECT City, COUNT(*) AS NumberOfCustomers\n",
            "FROM Customer\n",
            "GROUP BY City\n",
            "ORDER BY NumberOfCustomers DESC\n",
            "LIMIT 5;\n",
            "Extracted SQL: SELECT City, COUNT(*) AS NumberOfCustomers\n",
            "FROM Customer\n",
            "GROUP BY City\n",
            "ORDER BY NumberOfCustomers DESC\n",
            "LIMIT 5;\n"
          ]
        }
      ],
      "source": [
        "from vanna.flask import VannaFlaskApp\n",
        "VannaFlaskApp(vn).run()"
      ]
    },
    {
      "cell_type": "markdown",
      "metadata": {
        "id": "DkeG2Zx5HZRv"
      },
      "source": [
        "## Here's what you'll get\n",
        "![vanna-flask](https://vanna.ai/blog/img/vanna-flask.gif)"
      ]
    },
    {
      "cell_type": "markdown",
      "metadata": {
        "id": "tYrwAjflHZRw"
      },
      "source": []
    }
  ],
  "metadata": {
    "language_info": {
      "name": "python"
    },
    "colab": {
      "provenance": [],
      "include_colab_link": true
    },
    "kernelspec": {
      "name": "python3",
      "display_name": "Python 3"
    }
  },
  "nbformat": 4,
  "nbformat_minor": 0
}